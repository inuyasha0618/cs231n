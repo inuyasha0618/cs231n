{
 "cells": [
  {
   "cell_type": "markdown",
   "metadata": {
    "deletable": true,
    "editable": true
   },
   "source": [
    "# Fully-Connected Neural Nets\n",
    "In the previous homework you implemented a fully-connected two-layer neural network on CIFAR-10. The implementation was simple but not very modular since the loss and gradient were computed in a single monolithic function. This is manageable for a simple two-layer network, but would become impractical as we move to bigger models. Ideally we want to build networks using a more modular design so that we can implement different layer types in isolation and then snap them together into models with different architectures.\n",
    "\n",
    "In this exercise we will implement fully-connected networks using a more modular approach. For each layer we will implement a `forward` and a `backward` function. The `forward` function will receive inputs, weights, and other parameters and will return both an output and a `cache` object storing data needed for the backward pass, like this:\n",
    "\n",
    "```python\n",
    "def layer_forward(x, w):\n",
    "  \"\"\" Receive inputs x and weights w \"\"\"\n",
    "  # Do some computations ...\n",
    "  z = # ... some intermediate value\n",
    "  # Do some more computations ...\n",
    "  out = # the output\n",
    "   \n",
    "  cache = (x, w, z, out) # Values we need to compute gradients\n",
    "   \n",
    "  return out, cache\n",
    "```\n",
    "\n",
    "The backward pass will receive upstream derivatives and the `cache` object, and will return gradients with respect to the inputs and weights, like this:\n",
    "\n",
    "```python\n",
    "def layer_backward(dout, cache):\n",
    "  \"\"\"\n",
    "  Receive derivative of loss with respect to outputs and cache,\n",
    "  and compute derivative with respect to inputs.\n",
    "  \"\"\"\n",
    "  # Unpack cache values\n",
    "  x, w, z, out = cache\n",
    "  \n",
    "  # Use values in cache to compute derivatives\n",
    "  dx = # Derivative of loss with respect to x\n",
    "  dw = # Derivative of loss with respect to w\n",
    "  \n",
    "  return dx, dw\n",
    "```\n",
    "\n",
    "After implementing a bunch of layers this way, we will be able to easily combine them to build classifiers with different architectures.\n",
    "\n",
    "In addition to implementing fully-connected networks of arbitrary depth, we will also explore different update rules for optimization, and introduce Dropout as a regularizer and Batch Normalization as a tool to more efficiently optimize deep networks.\n",
    "  "
   ]
  },
  {
   "cell_type": "code",
   "execution_count": 1,
   "metadata": {
    "collapsed": false,
    "deletable": true,
    "editable": true
   },
   "outputs": [
    {
     "name": "stdout",
     "output_type": "stream",
     "text": [
      "run the following from the cs231n directory and try again:\n",
      "python setup.py build_ext --inplace\n",
      "You may also need to restart your iPython kernel\n"
     ]
    }
   ],
   "source": [
    "# As usual, a bit of setup\n",
    "from __future__ import print_function\n",
    "import time\n",
    "import numpy as np\n",
    "import matplotlib.pyplot as plt\n",
    "from cs231n.classifiers.fc_net import *\n",
    "from cs231n.data_utils import get_CIFAR10_data\n",
    "from cs231n.gradient_check import eval_numerical_gradient, eval_numerical_gradient_array\n",
    "from cs231n.solver import Solver\n",
    "\n",
    "%matplotlib inline\n",
    "plt.rcParams['figure.figsize'] = (10.0, 8.0) # set default size of plots\n",
    "plt.rcParams['image.interpolation'] = 'nearest'\n",
    "plt.rcParams['image.cmap'] = 'gray'\n",
    "\n",
    "# for auto-reloading external modules\n",
    "# see http://stackoverflow.com/questions/1907993/autoreload-of-modules-in-ipython\n",
    "%load_ext autoreload\n",
    "%autoreload 2\n",
    "\n",
    "def rel_error(x, y):\n",
    "  \"\"\" returns relative error \"\"\"\n",
    "  return np.max(np.abs(x - y) / (np.maximum(1e-8, np.abs(x) + np.abs(y))))"
   ]
  },
  {
   "cell_type": "code",
   "execution_count": 2,
   "metadata": {
    "collapsed": false,
    "deletable": true,
    "editable": true
   },
   "outputs": [
    {
     "name": "stdout",
     "output_type": "stream",
     "text": [
      "('X_val: ', (1000, 3, 32, 32))\n",
      "('X_train: ', (49000, 3, 32, 32))\n",
      "('X_test: ', (1000, 3, 32, 32))\n",
      "('y_val: ', (1000,))\n",
      "('y_train: ', (49000,))\n",
      "('y_test: ', (1000,))\n"
     ]
    }
   ],
   "source": [
    "# Load the (preprocessed) CIFAR10 data.\n",
    "\n",
    "data = get_CIFAR10_data()\n",
    "for k, v in list(data.items()):\n",
    "  print(('%s: ' % k, v.shape))"
   ]
  },
  {
   "cell_type": "markdown",
   "metadata": {
    "deletable": true,
    "editable": true
   },
   "source": [
    "# Affine layer: foward\n",
    "Open the file `cs231n/layers.py` and implement the `affine_forward` function.\n",
    "\n",
    "Once you are done you can test your implementaion by running the following:"
   ]
  },
  {
   "cell_type": "code",
   "execution_count": 3,
   "metadata": {
    "collapsed": false,
    "deletable": true,
    "editable": true
   },
   "outputs": [
    {
     "name": "stdout",
     "output_type": "stream",
     "text": [
      "Testing affine_forward function:\n",
      "difference:  9.76984772881e-10\n"
     ]
    }
   ],
   "source": [
    "# Test the affine_forward function\n",
    "\n",
    "num_inputs = 2\n",
    "input_shape = (4, 5, 6)\n",
    "output_dim = 3\n",
    "\n",
    "input_size = num_inputs * np.prod(input_shape)\n",
    "weight_size = output_dim * np.prod(input_shape)\n",
    "\n",
    "x = np.linspace(-0.1, 0.5, num=input_size).reshape(num_inputs, *input_shape)\n",
    "w = np.linspace(-0.2, 0.3, num=weight_size).reshape(np.prod(input_shape), output_dim)\n",
    "b = np.linspace(-0.3, 0.1, num=output_dim)\n",
    "\n",
    "out, _ = affine_forward(x, w, b)\n",
    "correct_out = np.array([[ 1.49834967,  1.70660132,  1.91485297],\n",
    "                        [ 3.25553199,  3.5141327,   3.77273342]])\n",
    "\n",
    "# Compare your output with ours. The error should be around 1e-9.\n",
    "print('Testing affine_forward function:')\n",
    "print('difference: ', rel_error(out, correct_out))"
   ]
  },
  {
   "cell_type": "markdown",
   "metadata": {
    "deletable": true,
    "editable": true
   },
   "source": [
    "# Affine layer: backward\n",
    "Now implement the `affine_backward` function and test your implementation using numeric gradient checking."
   ]
  },
  {
   "cell_type": "code",
   "execution_count": 4,
   "metadata": {
    "collapsed": false,
    "deletable": true,
    "editable": true
   },
   "outputs": [
    {
     "name": "stdout",
     "output_type": "stream",
     "text": [
      "Testing affine_backward function:\n",
      "dx error:  5.39910036865e-11\n",
      "dw error:  9.9042118654e-11\n",
      "db error:  2.41228675681e-11\n"
     ]
    }
   ],
   "source": [
    "# Test the affine_backward function\n",
    "np.random.seed(231)\n",
    "x = np.random.randn(10, 2, 3)\n",
    "w = np.random.randn(6, 5)\n",
    "b = np.random.randn(5)\n",
    "dout = np.random.randn(10, 5)\n",
    "\n",
    "dx_num = eval_numerical_gradient_array(lambda x: affine_forward(x, w, b)[0], x, dout)\n",
    "dw_num = eval_numerical_gradient_array(lambda w: affine_forward(x, w, b)[0], w, dout)\n",
    "db_num = eval_numerical_gradient_array(lambda b: affine_forward(x, w, b)[0], b, dout)\n",
    "\n",
    "_, cache = affine_forward(x, w, b)\n",
    "dx, dw, db = affine_backward(dout, cache)\n",
    "\n",
    "# The error should be around 1e-10\n",
    "print('Testing affine_backward function:')\n",
    "print('dx error: ', rel_error(dx_num, dx))\n",
    "print('dw error: ', rel_error(dw_num, dw))\n",
    "print('db error: ', rel_error(db_num, db))"
   ]
  },
  {
   "cell_type": "markdown",
   "metadata": {
    "deletable": true,
    "editable": true
   },
   "source": [
    "# ReLU layer: forward\n",
    "Implement the forward pass for the ReLU activation function in the `relu_forward` function and test your implementation using the following:"
   ]
  },
  {
   "cell_type": "code",
   "execution_count": 5,
   "metadata": {
    "collapsed": false,
    "deletable": true,
    "editable": true
   },
   "outputs": [
    {
     "name": "stdout",
     "output_type": "stream",
     "text": [
      "Testing relu_forward function:\n",
      "difference:  4.99999979802e-08\n"
     ]
    }
   ],
   "source": [
    "# Test the relu_forward function\n",
    "\n",
    "x = np.linspace(-0.5, 0.5, num=12).reshape(3, 4)\n",
    "\n",
    "out, _ = relu_forward(x)\n",
    "correct_out = np.array([[ 0.,          0.,          0.,          0.,        ],\n",
    "                        [ 0.,          0.,          0.04545455,  0.13636364,],\n",
    "                        [ 0.22727273,  0.31818182,  0.40909091,  0.5,       ]])\n",
    "\n",
    "# Compare your output with ours. The error should be around 5e-8\n",
    "print('Testing relu_forward function:')\n",
    "print('difference: ', rel_error(out, correct_out))"
   ]
  },
  {
   "cell_type": "markdown",
   "metadata": {
    "deletable": true,
    "editable": true
   },
   "source": [
    "# ReLU layer: backward\n",
    "Now implement the backward pass for the ReLU activation function in the `relu_backward` function and test your implementation using numeric gradient checking:"
   ]
  },
  {
   "cell_type": "code",
   "execution_count": 6,
   "metadata": {
    "collapsed": false,
    "deletable": true,
    "editable": true
   },
   "outputs": [
    {
     "name": "stdout",
     "output_type": "stream",
     "text": [
      "Testing relu_backward function:\n",
      "dx error:  3.27563491363e-12\n"
     ]
    }
   ],
   "source": [
    "np.random.seed(231)\n",
    "x = np.random.randn(10, 10)\n",
    "dout = np.random.randn(*x.shape)\n",
    "\n",
    "dx_num = eval_numerical_gradient_array(lambda x: relu_forward(x)[0], x, dout)\n",
    "\n",
    "_, cache = relu_forward(x)\n",
    "dx = relu_backward(dout, cache)\n",
    "\n",
    "# The error should be around 3e-12\n",
    "print('Testing relu_backward function:')\n",
    "print('dx error: ', rel_error(dx_num, dx))"
   ]
  },
  {
   "cell_type": "markdown",
   "metadata": {
    "deletable": true,
    "editable": true
   },
   "source": [
    "# \"Sandwich\" layers\n",
    "There are some common patterns of layers that are frequently used in neural nets. For example, affine layers are frequently followed by a ReLU nonlinearity. To make these common patterns easy, we define several convenience layers in the file `cs231n/layer_utils.py`.\n",
    "\n",
    "For now take a look at the `affine_relu_forward` and `affine_relu_backward` functions, and run the following to numerically gradient check the backward pass:"
   ]
  },
  {
   "cell_type": "code",
   "execution_count": 7,
   "metadata": {
    "collapsed": false,
    "deletable": true,
    "editable": true
   },
   "outputs": [
    {
     "name": "stdout",
     "output_type": "stream",
     "text": [
      "Testing affine_relu_forward:\n",
      "dx error:  6.7505621216e-11\n",
      "dw error:  8.16201557044e-11\n",
      "db error:  7.82672402146e-12\n"
     ]
    }
   ],
   "source": [
    "from cs231n.layer_utils import affine_relu_forward, affine_relu_backward\n",
    "np.random.seed(231)\n",
    "x = np.random.randn(2, 3, 4)\n",
    "w = np.random.randn(12, 10)\n",
    "b = np.random.randn(10)\n",
    "dout = np.random.randn(2, 10)\n",
    "\n",
    "out, cache = affine_relu_forward(x, w, b)\n",
    "dx, dw, db = affine_relu_backward(dout, cache)\n",
    "\n",
    "dx_num = eval_numerical_gradient_array(lambda x: affine_relu_forward(x, w, b)[0], x, dout)\n",
    "dw_num = eval_numerical_gradient_array(lambda w: affine_relu_forward(x, w, b)[0], w, dout)\n",
    "db_num = eval_numerical_gradient_array(lambda b: affine_relu_forward(x, w, b)[0], b, dout)\n",
    "\n",
    "print('Testing affine_relu_forward:')\n",
    "print('dx error: ', rel_error(dx_num, dx))\n",
    "print('dw error: ', rel_error(dw_num, dw))\n",
    "print('db error: ', rel_error(db_num, db))"
   ]
  },
  {
   "cell_type": "markdown",
   "metadata": {
    "deletable": true,
    "editable": true
   },
   "source": [
    "# Loss layers: Softmax and SVM\n",
    "You implemented these loss functions in the last assignment, so we'll give them to you for free here. You should still make sure you understand how they work by looking at the implementations in `cs231n/layers.py`.\n",
    "\n",
    "You can make sure that the implementations are correct by running the following:"
   ]
  },
  {
   "cell_type": "code",
   "execution_count": 8,
   "metadata": {
    "collapsed": false,
    "deletable": true,
    "editable": true
   },
   "outputs": [
    {
     "name": "stdout",
     "output_type": "stream",
     "text": [
      "Testing svm_loss:\n",
      "loss:  8.9996027491\n",
      "dx error:  1.40215660067e-09\n",
      "\n",
      "Testing softmax_loss:\n",
      "loss:  2.3025458445\n",
      "dx error:  9.38467316199e-09\n"
     ]
    }
   ],
   "source": [
    "np.random.seed(231)\n",
    "num_classes, num_inputs = 10, 50\n",
    "x = 0.001 * np.random.randn(num_inputs, num_classes)\n",
    "y = np.random.randint(num_classes, size=num_inputs)\n",
    "\n",
    "dx_num = eval_numerical_gradient(lambda x: svm_loss(x, y)[0], x, verbose=False)\n",
    "loss, dx = svm_loss(x, y)\n",
    "\n",
    "# Test svm_loss function. Loss should be around 9 and dx error should be 1e-9\n",
    "print('Testing svm_loss:')\n",
    "print('loss: ', loss)\n",
    "print('dx error: ', rel_error(dx_num, dx))\n",
    "\n",
    "dx_num = eval_numerical_gradient(lambda x: softmax_loss(x, y)[0], x, verbose=False)\n",
    "loss, dx = softmax_loss(x, y)\n",
    "\n",
    "# Test softmax_loss function. Loss should be 2.3 and dx error should be 1e-8\n",
    "print('\\nTesting softmax_loss:')\n",
    "print('loss: ', loss)\n",
    "print('dx error: ', rel_error(dx_num, dx))"
   ]
  },
  {
   "cell_type": "markdown",
   "metadata": {
    "deletable": true,
    "editable": true
   },
   "source": [
    "# Two-layer network\n",
    "In the previous assignment you implemented a two-layer neural network in a single monolithic class. Now that you have implemented modular versions of the necessary layers, you will reimplement the two layer network using these modular implementations.\n",
    "\n",
    "Open the file `cs231n/classifiers/fc_net.py` and complete the implementation of the `TwoLayerNet` class. This class will serve as a model for the other networks you will implement in this assignment, so read through it to make sure you understand the API. You can run the cell below to test your implementation."
   ]
  },
  {
   "cell_type": "code",
   "execution_count": 9,
   "metadata": {
    "collapsed": false,
    "deletable": true,
    "editable": true
   },
   "outputs": [
    {
     "name": "stdout",
     "output_type": "stream",
     "text": [
      "Testing initialization ... \n",
      "Testing test-time forward pass ... \n",
      "Testing training loss (no regularization)\n",
      "Running numeric gradient check with reg =  0.0\n",
      "W1 relative error: 1.22e-08\n",
      "W2 relative error: 3.48e-10\n",
      "b1 relative error: 6.55e-09\n",
      "b2 relative error: 4.33e-10\n",
      "Running numeric gradient check with reg =  0.7\n",
      "W1 relative error: 8.18e-07\n",
      "W2 relative error: 2.85e-08\n",
      "b1 relative error: 1.09e-09\n",
      "b2 relative error: 7.76e-10\n"
     ]
    }
   ],
   "source": [
    "np.random.seed(231)\n",
    "N, D, H, C = 3, 5, 50, 7\n",
    "X = np.random.randn(N, D)\n",
    "y = np.random.randint(C, size=N)\n",
    "\n",
    "std = 1e-3\n",
    "model = TwoLayerNet(input_dim=D, hidden_dim=H, num_classes=C, weight_scale=std)\n",
    "\n",
    "print('Testing initialization ... ')\n",
    "W1_std = abs(model.params['W1'].std() - std)\n",
    "b1 = model.params['b1']\n",
    "W2_std = abs(model.params['W2'].std() - std)\n",
    "b2 = model.params['b2']\n",
    "assert W1_std < std / 10, 'First layer weights do not seem right'\n",
    "assert np.all(b1 == 0), 'First layer biases do not seem right'\n",
    "assert W2_std < std / 10, 'Second layer weights do not seem right'\n",
    "assert np.all(b2 == 0), 'Second layer biases do not seem right'\n",
    "\n",
    "print('Testing test-time forward pass ... ')\n",
    "model.params['W1'] = np.linspace(-0.7, 0.3, num=D*H).reshape(D, H)\n",
    "model.params['b1'] = np.linspace(-0.1, 0.9, num=H)\n",
    "model.params['W2'] = np.linspace(-0.3, 0.4, num=H*C).reshape(H, C)\n",
    "model.params['b2'] = np.linspace(-0.9, 0.1, num=C)\n",
    "X = np.linspace(-5.5, 4.5, num=N*D).reshape(D, N).T\n",
    "scores = model.loss(X)\n",
    "correct_scores = np.asarray(\n",
    "  [[11.53165108,  12.2917344,   13.05181771,  13.81190102,  14.57198434, 15.33206765,  16.09215096],\n",
    "   [12.05769098,  12.74614105,  13.43459113,  14.1230412,   14.81149128, 15.49994135,  16.18839143],\n",
    "   [12.58373087,  13.20054771,  13.81736455,  14.43418138,  15.05099822, 15.66781506,  16.2846319 ]])\n",
    "scores_diff = np.abs(scores - correct_scores).sum()\n",
    "assert scores_diff < 1e-6, 'Problem with test-time forward pass'\n",
    "\n",
    "print('Testing training loss (no regularization)')\n",
    "y = np.asarray([0, 5, 1])\n",
    "loss, grads = model.loss(X, y)\n",
    "correct_loss = 3.4702243556\n",
    "assert abs(loss - correct_loss) < 1e-10, 'Problem with training-time loss'\n",
    "\n",
    "model.reg = 1.0\n",
    "loss, grads = model.loss(X, y)\n",
    "correct_loss = 26.5948426952\n",
    "assert abs(loss - correct_loss) < 1e-10, 'Problem with regularization loss'\n",
    "\n",
    "for reg in [0.0, 0.7]:\n",
    "  print('Running numeric gradient check with reg = ', reg)\n",
    "  model.reg = reg\n",
    "  loss, grads = model.loss(X, y)\n",
    "\n",
    "  for name in sorted(grads):\n",
    "    f = lambda _: model.loss(X, y)[0]\n",
    "    grad_num = eval_numerical_gradient(f, model.params[name], verbose=False)\n",
    "    print('%s relative error: %.2e' % (name, rel_error(grad_num, grads[name])))"
   ]
  },
  {
   "cell_type": "markdown",
   "metadata": {
    "deletable": true,
    "editable": true
   },
   "source": [
    "# Solver\n",
    "In the previous assignment, the logic for training models was coupled to the models themselves. Following a more modular design, for this assignment we have split the logic for training models into a separate class.\n",
    "\n",
    "Open the file `cs231n/solver.py` and read through it to familiarize yourself with the API. After doing so, use a `Solver` instance to train a `TwoLayerNet` that achieves at least `50%` accuracy on the validation set."
   ]
  },
  {
   "cell_type": "code",
   "execution_count": 17,
   "metadata": {
    "collapsed": false,
    "deletable": true,
    "editable": true
   },
   "outputs": [
    {
     "name": "stdout",
     "output_type": "stream",
     "text": [
      "(Iteration 1 / 24500) loss: 2.302801\n",
      "(Epoch 0 / 50) train acc: 0.159000; val_acc: 0.154000\n",
      "(Iteration 101 / 24500) loss: 1.890681\n",
      "(Iteration 201 / 24500) loss: 1.695776\n",
      "(Iteration 301 / 24500) loss: 1.805290\n",
      "(Iteration 401 / 24500) loss: 1.704956\n",
      "(Epoch 1 / 50) train acc: 0.459000; val_acc: 0.439000\n",
      "(Iteration 501 / 24500) loss: 1.507211\n",
      "(Iteration 601 / 24500) loss: 1.417333\n",
      "(Iteration 701 / 24500) loss: 1.443499\n",
      "(Iteration 801 / 24500) loss: 1.490098\n",
      "(Iteration 901 / 24500) loss: 1.516032\n",
      "(Epoch 2 / 50) train acc: 0.475000; val_acc: 0.458000\n",
      "(Iteration 1001 / 24500) loss: 1.555528\n",
      "(Iteration 1101 / 24500) loss: 1.467277\n",
      "(Iteration 1201 / 24500) loss: 1.256070\n",
      "(Iteration 1301 / 24500) loss: 1.377246\n",
      "(Iteration 1401 / 24500) loss: 1.464233\n",
      "(Epoch 3 / 50) train acc: 0.529000; val_acc: 0.475000\n",
      "(Iteration 1501 / 24500) loss: 1.512379\n",
      "(Iteration 1601 / 24500) loss: 1.231621\n",
      "(Iteration 1701 / 24500) loss: 1.410885\n",
      "(Iteration 1801 / 24500) loss: 1.529103\n",
      "(Iteration 1901 / 24500) loss: 1.358352\n",
      "(Epoch 4 / 50) train acc: 0.549000; val_acc: 0.489000\n",
      "(Iteration 2001 / 24500) loss: 1.602735\n",
      "(Iteration 2101 / 24500) loss: 1.171736\n",
      "(Iteration 2201 / 24500) loss: 1.170896\n",
      "(Iteration 2301 / 24500) loss: 1.270439\n",
      "(Iteration 2401 / 24500) loss: 1.274228\n",
      "(Epoch 5 / 50) train acc: 0.542000; val_acc: 0.496000\n",
      "(Iteration 2501 / 24500) loss: 1.224085\n",
      "(Iteration 2601 / 24500) loss: 1.047154\n",
      "(Iteration 2701 / 24500) loss: 1.196606\n",
      "(Iteration 2801 / 24500) loss: 1.291089\n",
      "(Iteration 2901 / 24500) loss: 1.225396\n",
      "(Epoch 6 / 50) train acc: 0.550000; val_acc: 0.493000\n",
      "(Iteration 3001 / 24500) loss: 1.466568\n",
      "(Iteration 3101 / 24500) loss: 1.095963\n",
      "(Iteration 3201 / 24500) loss: 1.004933\n",
      "(Iteration 3301 / 24500) loss: 1.387774\n",
      "(Iteration 3401 / 24500) loss: 1.040464\n",
      "(Epoch 7 / 50) train acc: 0.609000; val_acc: 0.509000\n",
      "(Iteration 3501 / 24500) loss: 1.214206\n",
      "(Iteration 3601 / 24500) loss: 1.011858\n",
      "(Iteration 3701 / 24500) loss: 1.175514\n",
      "(Iteration 3801 / 24500) loss: 1.365188\n",
      "(Iteration 3901 / 24500) loss: 1.550894\n",
      "(Epoch 8 / 50) train acc: 0.586000; val_acc: 0.511000\n",
      "(Iteration 4001 / 24500) loss: 1.128472\n",
      "(Iteration 4101 / 24500) loss: 1.028387\n",
      "(Iteration 4201 / 24500) loss: 1.184327\n",
      "(Iteration 4301 / 24500) loss: 1.122564\n",
      "(Iteration 4401 / 24500) loss: 1.379488\n",
      "(Epoch 9 / 50) train acc: 0.619000; val_acc: 0.517000\n",
      "(Iteration 4501 / 24500) loss: 1.098676\n",
      "(Iteration 4601 / 24500) loss: 1.042210\n",
      "(Iteration 4701 / 24500) loss: 1.074486\n",
      "(Iteration 4801 / 24500) loss: 1.299413\n",
      "(Epoch 10 / 50) train acc: 0.610000; val_acc: 0.517000\n",
      "(Iteration 4901 / 24500) loss: 1.218666\n",
      "(Iteration 5001 / 24500) loss: 1.098142\n",
      "(Iteration 5101 / 24500) loss: 1.123328\n",
      "(Iteration 5201 / 24500) loss: 0.957540\n",
      "(Iteration 5301 / 24500) loss: 1.203469\n",
      "(Epoch 11 / 50) train acc: 0.626000; val_acc: 0.500000\n",
      "(Iteration 5401 / 24500) loss: 1.030007\n",
      "(Iteration 5501 / 24500) loss: 1.139640\n",
      "(Iteration 5601 / 24500) loss: 1.084739\n",
      "(Iteration 5701 / 24500) loss: 1.011059\n",
      "(Iteration 5801 / 24500) loss: 1.156879\n",
      "(Epoch 12 / 50) train acc: 0.635000; val_acc: 0.517000\n",
      "(Iteration 5901 / 24500) loss: 1.134163\n",
      "(Iteration 6001 / 24500) loss: 1.006762\n",
      "(Iteration 6101 / 24500) loss: 1.061619\n",
      "(Iteration 6201 / 24500) loss: 0.969596\n",
      "(Iteration 6301 / 24500) loss: 0.992407\n",
      "(Epoch 13 / 50) train acc: 0.637000; val_acc: 0.496000\n",
      "(Iteration 6401 / 24500) loss: 1.079325\n",
      "(Iteration 6501 / 24500) loss: 0.959446\n",
      "(Iteration 6601 / 24500) loss: 1.121806\n",
      "(Iteration 6701 / 24500) loss: 1.133110\n",
      "(Iteration 6801 / 24500) loss: 1.056537\n",
      "(Epoch 14 / 50) train acc: 0.641000; val_acc: 0.511000\n",
      "(Iteration 6901 / 24500) loss: 0.922322\n",
      "(Iteration 7001 / 24500) loss: 1.014151\n",
      "(Iteration 7101 / 24500) loss: 1.156631\n",
      "(Iteration 7201 / 24500) loss: 1.018532\n",
      "(Iteration 7301 / 24500) loss: 1.146646\n",
      "(Epoch 15 / 50) train acc: 0.657000; val_acc: 0.510000\n",
      "(Iteration 7401 / 24500) loss: 1.299879\n",
      "(Iteration 7501 / 24500) loss: 0.968832\n",
      "(Iteration 7601 / 24500) loss: 1.046053\n",
      "(Iteration 7701 / 24500) loss: 0.951514\n",
      "(Iteration 7801 / 24500) loss: 1.148451\n",
      "(Epoch 16 / 50) train acc: 0.645000; val_acc: 0.524000\n",
      "(Iteration 7901 / 24500) loss: 1.000027\n",
      "(Iteration 8001 / 24500) loss: 0.940938\n",
      "(Iteration 8101 / 24500) loss: 0.939524\n",
      "(Iteration 8201 / 24500) loss: 0.875551\n",
      "(Iteration 8301 / 24500) loss: 0.971737\n",
      "(Epoch 17 / 50) train acc: 0.658000; val_acc: 0.515000\n",
      "(Iteration 8401 / 24500) loss: 1.057310\n",
      "(Iteration 8501 / 24500) loss: 1.059940\n",
      "(Iteration 8601 / 24500) loss: 0.981558\n",
      "(Iteration 8701 / 24500) loss: 0.863833\n",
      "(Iteration 8801 / 24500) loss: 0.842460\n",
      "(Epoch 18 / 50) train acc: 0.686000; val_acc: 0.530000\n",
      "(Iteration 8901 / 24500) loss: 0.715323\n",
      "(Iteration 9001 / 24500) loss: 0.873933\n",
      "(Iteration 9101 / 24500) loss: 0.915637\n",
      "(Iteration 9201 / 24500) loss: 1.014673\n",
      "(Iteration 9301 / 24500) loss: 0.931973\n",
      "(Epoch 19 / 50) train acc: 0.676000; val_acc: 0.523000\n",
      "(Iteration 9401 / 24500) loss: 0.906442\n",
      "(Iteration 9501 / 24500) loss: 0.910039\n",
      "(Iteration 9601 / 24500) loss: 0.956309\n",
      "(Iteration 9701 / 24500) loss: 0.719963\n",
      "(Epoch 20 / 50) train acc: 0.709000; val_acc: 0.522000\n",
      "(Iteration 9801 / 24500) loss: 1.009959\n",
      "(Iteration 9901 / 24500) loss: 0.870859\n",
      "(Iteration 10001 / 24500) loss: 1.102327\n",
      "(Iteration 10101 / 24500) loss: 0.896191\n",
      "(Iteration 10201 / 24500) loss: 0.892205\n",
      "(Epoch 21 / 50) train acc: 0.688000; val_acc: 0.524000\n",
      "(Iteration 10301 / 24500) loss: 0.913782\n",
      "(Iteration 10401 / 24500) loss: 0.927864\n",
      "(Iteration 10501 / 24500) loss: 0.816185\n",
      "(Iteration 10601 / 24500) loss: 0.788884\n",
      "(Iteration 10701 / 24500) loss: 0.672004\n",
      "(Epoch 22 / 50) train acc: 0.696000; val_acc: 0.547000\n",
      "(Iteration 10801 / 24500) loss: 0.946560\n",
      "(Iteration 10901 / 24500) loss: 0.963350\n",
      "(Iteration 11001 / 24500) loss: 0.859396\n",
      "(Iteration 11101 / 24500) loss: 1.041658\n",
      "(Iteration 11201 / 24500) loss: 0.803359\n",
      "(Epoch 23 / 50) train acc: 0.713000; val_acc: 0.513000\n",
      "(Iteration 11301 / 24500) loss: 0.926257\n",
      "(Iteration 11401 / 24500) loss: 0.813681\n",
      "(Iteration 11501 / 24500) loss: 0.971785\n",
      "(Iteration 11601 / 24500) loss: 0.915071\n",
      "(Iteration 11701 / 24500) loss: 0.771068\n",
      "(Epoch 24 / 50) train acc: 0.746000; val_acc: 0.526000\n",
      "(Iteration 11801 / 24500) loss: 0.789942\n",
      "(Iteration 11901 / 24500) loss: 0.812818\n",
      "(Iteration 12001 / 24500) loss: 0.780752\n",
      "(Iteration 12101 / 24500) loss: 0.718579\n",
      "(Iteration 12201 / 24500) loss: 0.981995\n",
      "(Epoch 25 / 50) train acc: 0.714000; val_acc: 0.510000\n",
      "(Iteration 12301 / 24500) loss: 0.947720\n",
      "(Iteration 12401 / 24500) loss: 0.993324\n",
      "(Iteration 12501 / 24500) loss: 0.995752\n",
      "(Iteration 12601 / 24500) loss: 0.667160\n",
      "(Iteration 12701 / 24500) loss: 0.666769\n",
      "(Epoch 26 / 50) train acc: 0.734000; val_acc: 0.514000\n",
      "(Iteration 12801 / 24500) loss: 0.647430\n",
      "(Iteration 12901 / 24500) loss: 0.781978\n",
      "(Iteration 13001 / 24500) loss: 0.781828\n",
      "(Iteration 13101 / 24500) loss: 0.820282\n",
      "(Iteration 13201 / 24500) loss: 0.939213\n",
      "(Epoch 27 / 50) train acc: 0.709000; val_acc: 0.525000\n",
      "(Iteration 13301 / 24500) loss: 0.808888\n",
      "(Iteration 13401 / 24500) loss: 0.738402\n",
      "(Iteration 13501 / 24500) loss: 0.815730\n",
      "(Iteration 13601 / 24500) loss: 0.781795\n",
      "(Iteration 13701 / 24500) loss: 0.702725\n",
      "(Epoch 28 / 50) train acc: 0.739000; val_acc: 0.522000\n",
      "(Iteration 13801 / 24500) loss: 0.702751\n",
      "(Iteration 13901 / 24500) loss: 0.645871\n",
      "(Iteration 14001 / 24500) loss: 0.731240\n",
      "(Iteration 14101 / 24500) loss: 0.628301\n",
      "(Iteration 14201 / 24500) loss: 0.801238\n",
      "(Epoch 29 / 50) train acc: 0.737000; val_acc: 0.520000\n",
      "(Iteration 14301 / 24500) loss: 0.721114\n",
      "(Iteration 14401 / 24500) loss: 0.716412\n",
      "(Iteration 14501 / 24500) loss: 0.900534\n",
      "(Iteration 14601 / 24500) loss: 0.629326\n",
      "(Epoch 30 / 50) train acc: 0.730000; val_acc: 0.520000\n",
      "(Iteration 14701 / 24500) loss: 0.714603\n",
      "(Iteration 14801 / 24500) loss: 0.779541\n",
      "(Iteration 14901 / 24500) loss: 0.840412\n",
      "(Iteration 15001 / 24500) loss: 0.813699\n",
      "(Iteration 15101 / 24500) loss: 0.677049\n",
      "(Epoch 31 / 50) train acc: 0.754000; val_acc: 0.512000\n",
      "(Iteration 15201 / 24500) loss: 0.996593\n",
      "(Iteration 15301 / 24500) loss: 0.668816\n",
      "(Iteration 15401 / 24500) loss: 0.854221\n",
      "(Iteration 15501 / 24500) loss: 0.662743\n",
      "(Iteration 15601 / 24500) loss: 0.714487\n",
      "(Epoch 32 / 50) train acc: 0.736000; val_acc: 0.522000\n",
      "(Iteration 15701 / 24500) loss: 0.877529\n",
      "(Iteration 15801 / 24500) loss: 0.675043\n",
      "(Iteration 15901 / 24500) loss: 0.743616\n",
      "(Iteration 16001 / 24500) loss: 0.596778\n",
      "(Iteration 16101 / 24500) loss: 0.699963\n",
      "(Epoch 33 / 50) train acc: 0.756000; val_acc: 0.508000\n",
      "(Iteration 16201 / 24500) loss: 0.606391\n",
      "(Iteration 16301 / 24500) loss: 0.800662\n",
      "(Iteration 16401 / 24500) loss: 0.857656\n",
      "(Iteration 16501 / 24500) loss: 0.691352\n",
      "(Iteration 16601 / 24500) loss: 0.645414\n",
      "(Epoch 34 / 50) train acc: 0.742000; val_acc: 0.508000\n",
      "(Iteration 16701 / 24500) loss: 0.748415\n",
      "(Iteration 16801 / 24500) loss: 0.641455\n",
      "(Iteration 16901 / 24500) loss: 0.816932\n",
      "(Iteration 17001 / 24500) loss: 0.688637\n",
      "(Iteration 17101 / 24500) loss: 0.776986\n",
      "(Epoch 35 / 50) train acc: 0.762000; val_acc: 0.524000\n",
      "(Iteration 17201 / 24500) loss: 0.805127\n",
      "(Iteration 17301 / 24500) loss: 0.519099\n",
      "(Iteration 17401 / 24500) loss: 0.751405\n",
      "(Iteration 17501 / 24500) loss: 0.575643\n",
      "(Iteration 17601 / 24500) loss: 0.984855\n",
      "(Epoch 36 / 50) train acc: 0.760000; val_acc: 0.529000\n",
      "(Iteration 17701 / 24500) loss: 0.594198\n",
      "(Iteration 17801 / 24500) loss: 0.775378\n",
      "(Iteration 17901 / 24500) loss: 0.671951\n",
      "(Iteration 18001 / 24500) loss: 0.679214\n",
      "(Iteration 18101 / 24500) loss: 0.723518\n",
      "(Epoch 37 / 50) train acc: 0.796000; val_acc: 0.526000\n",
      "(Iteration 18201 / 24500) loss: 0.752410\n",
      "(Iteration 18301 / 24500) loss: 0.689616\n",
      "(Iteration 18401 / 24500) loss: 0.628918\n",
      "(Iteration 18501 / 24500) loss: 0.642857\n",
      "(Iteration 18601 / 24500) loss: 0.689636\n",
      "(Epoch 38 / 50) train acc: 0.747000; val_acc: 0.519000\n",
      "(Iteration 18701 / 24500) loss: 0.665485\n",
      "(Iteration 18801 / 24500) loss: 0.571003\n",
      "(Iteration 18901 / 24500) loss: 0.935032\n",
      "(Iteration 19001 / 24500) loss: 0.634508\n",
      "(Iteration 19101 / 24500) loss: 0.757804\n",
      "(Epoch 39 / 50) train acc: 0.768000; val_acc: 0.508000\n",
      "(Iteration 19201 / 24500) loss: 0.524342\n",
      "(Iteration 19301 / 24500) loss: 0.656919\n",
      "(Iteration 19401 / 24500) loss: 0.576870\n",
      "(Iteration 19501 / 24500) loss: 0.761014\n",
      "(Epoch 40 / 50) train acc: 0.779000; val_acc: 0.502000\n",
      "(Iteration 19601 / 24500) loss: 0.527192\n",
      "(Iteration 19701 / 24500) loss: 0.559672\n",
      "(Iteration 19801 / 24500) loss: 0.767266\n",
      "(Iteration 19901 / 24500) loss: 0.688222\n",
      "(Iteration 20001 / 24500) loss: 0.561361\n",
      "(Epoch 41 / 50) train acc: 0.777000; val_acc: 0.526000\n",
      "(Iteration 20101 / 24500) loss: 0.641061\n",
      "(Iteration 20201 / 24500) loss: 0.587073\n",
      "(Iteration 20301 / 24500) loss: 0.666359\n",
      "(Iteration 20401 / 24500) loss: 0.748505\n",
      "(Iteration 20501 / 24500) loss: 0.632421\n",
      "(Epoch 42 / 50) train acc: 0.789000; val_acc: 0.510000\n",
      "(Iteration 20601 / 24500) loss: 0.670068\n",
      "(Iteration 20701 / 24500) loss: 0.517801\n",
      "(Iteration 20801 / 24500) loss: 0.763422\n",
      "(Iteration 20901 / 24500) loss: 0.767873\n",
      "(Iteration 21001 / 24500) loss: 0.550452\n",
      "(Epoch 43 / 50) train acc: 0.764000; val_acc: 0.517000\n",
      "(Iteration 21101 / 24500) loss: 0.748154\n",
      "(Iteration 21201 / 24500) loss: 0.731932\n",
      "(Iteration 21301 / 24500) loss: 0.641293\n",
      "(Iteration 21401 / 24500) loss: 0.565408\n",
      "(Iteration 21501 / 24500) loss: 0.641347\n",
      "(Epoch 44 / 50) train acc: 0.786000; val_acc: 0.530000\n",
      "(Iteration 21601 / 24500) loss: 0.648093\n",
      "(Iteration 21701 / 24500) loss: 0.644050\n",
      "(Iteration 21801 / 24500) loss: 0.550660\n",
      "(Iteration 21901 / 24500) loss: 0.557758\n",
      "(Iteration 22001 / 24500) loss: 0.623752\n",
      "(Epoch 45 / 50) train acc: 0.794000; val_acc: 0.511000\n",
      "(Iteration 22101 / 24500) loss: 0.603935\n",
      "(Iteration 22201 / 24500) loss: 0.590230\n",
      "(Iteration 22301 / 24500) loss: 0.708324\n",
      "(Iteration 22401 / 24500) loss: 0.568698\n",
      "(Iteration 22501 / 24500) loss: 0.564931\n",
      "(Epoch 46 / 50) train acc: 0.801000; val_acc: 0.512000\n",
      "(Iteration 22601 / 24500) loss: 0.615633\n",
      "(Iteration 22701 / 24500) loss: 0.619358\n",
      "(Iteration 22801 / 24500) loss: 0.647024\n",
      "(Iteration 22901 / 24500) loss: 0.732452\n",
      "(Iteration 23001 / 24500) loss: 0.620996\n",
      "(Epoch 47 / 50) train acc: 0.781000; val_acc: 0.514000\n",
      "(Iteration 23101 / 24500) loss: 0.631205\n",
      "(Iteration 23201 / 24500) loss: 0.594499\n",
      "(Iteration 23301 / 24500) loss: 0.577297\n",
      "(Iteration 23401 / 24500) loss: 0.550107\n",
      "(Iteration 23501 / 24500) loss: 0.456533\n",
      "(Epoch 48 / 50) train acc: 0.765000; val_acc: 0.524000\n",
      "(Iteration 23601 / 24500) loss: 0.440265\n",
      "(Iteration 23701 / 24500) loss: 0.724607\n",
      "(Iteration 23801 / 24500) loss: 0.524090\n",
      "(Iteration 23901 / 24500) loss: 0.662345\n",
      "(Iteration 24001 / 24500) loss: 0.508453\n",
      "(Epoch 49 / 50) train acc: 0.783000; val_acc: 0.512000\n",
      "(Iteration 24101 / 24500) loss: 0.494419\n",
      "(Iteration 24201 / 24500) loss: 0.604782\n",
      "(Iteration 24301 / 24500) loss: 0.692986\n",
      "(Iteration 24401 / 24500) loss: 0.633128\n",
      "(Epoch 50 / 50) train acc: 0.790000; val_acc: 0.513000\n"
     ]
    }
   ],
   "source": [
    "model = TwoLayerNet()\n",
    "solver = None\n",
    "\n",
    "##############################################################################\n",
    "# TODO: Use a Solver instance to train a TwoLayerNet that achieves at least  #\n",
    "# 50% accuracy on the validation set.                                        #\n",
    "##############################################################################\n",
    "data = {\n",
    "  'X_train': data['X_train'], # training data\n",
    "  'y_train': data['y_train'], # training labels\n",
    "  'X_val': data['X_val'], # validation data\n",
    "  'y_val': data['y_val'] # validation labels\n",
    "}\n",
    "\n",
    "solver = Solver(model, data,\n",
    "                update_rule='sgd',\n",
    "                optim_config={\n",
    "                  'learning_rate': 1e-3,\n",
    "                },\n",
    "                lr_decay=0.95,\n",
    "                num_epochs=50, batch_size=100,\n",
    "                print_every=100)\n",
    "solver.train()\n",
    "##############################################################################\n",
    "#                             END OF YOUR CODE                               #\n",
    "##############################################################################"
   ]
  },
  {
   "cell_type": "code",
   "execution_count": 18,
   "metadata": {
    "collapsed": false,
    "deletable": true,
    "editable": true
   },
   "outputs": [
    {
     "data": {
      "image/png": "[encoded data removed]",
      "text/plain": [
       "<matplotlib.figure.Figure at 0x119f028d0>"
      ]
     },
     "metadata": {},
     "output_type": "display_data"
    }
   ],
   "source": [
    "# Run this cell to visualize training loss and train / val accuracy\n",
    "\n",
    "plt.subplot(2, 1, 1)\n",
    "plt.title('Training loss')\n",
    "plt.plot(solver.loss_history, 'o')\n",
    "plt.xlabel('Iteration')\n",
    "\n",
    "plt.subplot(2, 1, 2)\n",
    "plt.title('Accuracy')\n",
    "plt.plot(solver.train_acc_history, '-o', label='train')\n",
    "plt.plot(solver.val_acc_history, '-o', label='val')\n",
    "plt.plot([0.5] * len(solver.val_acc_history), 'k--')\n",
    "plt.xlabel('Epoch')\n",
    "plt.legend(loc='lower right')\n",
    "plt.gcf().set_size_inches(15, 12)\n",
    "plt.show()"
   ]
  },
  {
   "cell_type": "markdown",
   "metadata": {
    "deletable": true,
    "editable": true
   },
   "source": [
    "# Multilayer network\n",
    "Next you will implement a fully-connected network with an arbitrary number of hidden layers.\n",
    "\n",
    "Read through the `FullyConnectedNet` class in the file `cs231n/classifiers/fc_net.py`.\n",
    "\n",
    "Implement the initialization, the forward pass, and the backward pass. For the moment don't worry about implementing dropout or batch normalization; we will add those features soon."
   ]
  },
  {
   "cell_type": "markdown",
   "metadata": {
    "deletable": true,
    "editable": true
   },
   "source": [
    "## Initial loss and gradient check"
   ]
  },
  {
   "cell_type": "markdown",
   "metadata": {
    "deletable": true,
    "editable": true
   },
   "source": [
    "As a sanity check, run the following to check the initial loss and to gradient check the network both with and without regularization. Do the initial losses seem reasonable?\n",
    "\n",
    "For gradient checking, you should expect to see errors around 1e-6 or less."
   ]
  },
  {
   "cell_type": "code",
   "execution_count": 30,
   "metadata": {
    "collapsed": false,
    "deletable": true,
    "editable": true
   },
   "outputs": [
    {
     "name": "stdout",
     "output_type": "stream",
     "text": [
      "Running check with reg =  0\n",
      "Initial loss:  2.30305969832\n",
      "W1 relative error: 3.04e-07\n",
      "W2 relative error: 9.48e-06\n",
      "W3 relative error: 1.14e-07\n",
      "b1 relative error: 1.19e-08\n",
      "b2 relative error: 1.90e-08\n",
      "b3 relative error: 1.45e-10\n",
      "Running check with reg =  3.14\n",
      "Initial loss:  7.05230905556\n",
      "W1 relative error: 1.38e-08\n",
      "W2 relative error: 6.87e-08\n",
      "W3 relative error: 7.00e-09\n",
      "b1 relative error: 3.25e-08\n",
      "b2 relative error: 3.96e-09\n",
      "b3 relative error: 2.41e-10\n"
     ]
    }
   ],
   "source": [
    "np.random.seed(231)\n",
    "N, D, H1, H2, C = 2, 15, 20, 30, 10\n",
    "X = np.random.randn(N, D)\n",
    "y = np.random.randint(C, size=(N,))\n",
    "\n",
    "for reg in [0, 3.14]:\n",
    "  print('Running check with reg = ', reg)\n",
    "  model = FullyConnectedNet([H1, H2], input_dim=D, num_classes=C,\n",
    "                            reg=reg, weight_scale=5e-2, dtype=np.float64)\n",
    "\n",
    "  loss, grads = model.loss(X, y)\n",
    "  print('Initial loss: ', loss)\n",
    "\n",
    "  for name in sorted(grads):\n",
    "    f = lambda _: model.loss(X, y)[0]\n",
    "    grad_num = eval_numerical_gradient(f, model.params[name], verbose=False, h=1e-5)\n",
    "    print('%s relative error: %.2e' % (name, rel_error(grad_num, grads[name])))"
   ]
  },
  {
   "cell_type": "markdown",
   "metadata": {
    "deletable": true,
    "editable": true
   },
   "source": [
    "As another sanity check, make sure you can overfit a small dataset of 50 images. First we will try a three-layer network with 100 units in each hidden layer. You will need to tweak the learning rate and initialization scale, but you should be able to overfit and achieve 100% training accuracy within 20 epochs."
   ]
  },
  {
   "cell_type": "code",
   "execution_count": 64,
   "metadata": {
    "collapsed": false,
    "deletable": true,
    "editable": true,
    "scrolled": false
   },
   "outputs": [
    {
     "name": "stdout",
     "output_type": "stream",
     "text": [
      "(Iteration 1 / 40) loss: 3.768607\n",
      "(Epoch 0 / 20) train acc: 0.200000; val_acc: 0.107000\n",
      "(Epoch 1 / 20) train acc: 0.220000; val_acc: 0.109000\n",
      "(Epoch 2 / 20) train acc: 0.240000; val_acc: 0.120000\n",
      "(Epoch 3 / 20) train acc: 0.360000; val_acc: 0.128000\n",
      "(Epoch 4 / 20) train acc: 0.360000; val_acc: 0.131000\n",
      "(Epoch 5 / 20) train acc: 0.380000; val_acc: 0.126000\n",
      "(Iteration 11 / 40) loss: 2.104415\n",
      "(Epoch 6 / 20) train acc: 0.420000; val_acc: 0.133000\n",
      "(Epoch 7 / 20) train acc: 0.380000; val_acc: 0.133000\n",
      "(Epoch 8 / 20) train acc: 0.460000; val_acc: 0.132000\n",
      "(Epoch 9 / 20) train acc: 0.480000; val_acc: 0.139000\n",
      "(Epoch 10 / 20) train acc: 0.500000; val_acc: 0.136000\n",
      "(Iteration 21 / 40) loss: 1.646562\n",
      "(Epoch 11 / 20) train acc: 0.520000; val_acc: 0.141000\n",
      "(Epoch 12 / 20) train acc: 0.500000; val_acc: 0.139000\n",
      "(Epoch 13 / 20) train acc: 0.500000; val_acc: 0.136000\n",
      "(Epoch 14 / 20) train acc: 0.500000; val_acc: 0.137000\n",
      "(Epoch 15 / 20) train acc: 0.520000; val_acc: 0.143000\n",
      "(Iteration 31 / 40) loss: 1.617393\n",
      "(Epoch 16 / 20) train acc: 0.520000; val_acc: 0.146000\n",
      "(Epoch 17 / 20) train acc: 0.520000; val_acc: 0.143000\n",
      "(Epoch 18 / 20) train acc: 0.520000; val_acc: 0.143000\n",
      "(Epoch 19 / 20) train acc: 0.520000; val_acc: 0.143000\n",
      "(Epoch 20 / 20) train acc: 0.520000; val_acc: 0.144000\n"
     ]
    },
    {
     "data": {
      "image/png": "[encoded data removed]",
      "text/plain": [
       "<matplotlib.figure.Figure at 0x11849e310>"
      ]
     },
     "metadata": {},
     "output_type": "display_data"
    }
   ],
   "source": [
    "# TODO: Use a three-layer Net to overfit 50 training examples.\n",
    "\n",
    "num_train = 50\n",
    "small_data = {\n",
    "  'X_train': data['X_train'][:num_train],\n",
    "  'y_train': data['y_train'][:num_train],\n",
    "  'X_val': data['X_val'],\n",
    "  'y_val': data['y_val'],\n",
    "}\n",
    "\n",
    "weight_scale = 2.034488e-02\n",
    "learning_rate = 2.270886e-03\n",
    "model = FullyConnectedNet([100, 100],\n",
    "              weight_scale=weight_scale, dtype=np.float64)\n",
    "solver = Solver(model, small_data,\n",
    "                print_every=10, num_epochs=20, batch_size=25,\n",
    "                update_rule='sgd',\n",
    "                optim_config={\n",
    "                  'learning_rate': learning_rate,\n",
    "                }\n",
    "         )\n",
    "solver.train()\n",
    "\n",
    "plt.plot(solver.loss_history, 'o')\n",
    "plt.title('Training loss history')\n",
    "plt.xlabel('Iteration')\n",
    "plt.ylabel('Training loss')\n",
    "plt.show()"
   ]
  },
  {
   "cell_type": "markdown",
   "metadata": {
    "deletable": true,
    "editable": true
   },
   "source": [
    "Now try to use a five-layer network with 100 units on each layer to overfit 50 training examples. Again you will have to adjust the learning rate and weight initialization, but you should be able to achieve 100% training accuracy within 20 epochs."
   ]
  },
  {
   "cell_type": "code",
   "execution_count": null,
   "metadata": {
    "collapsed": false,
    "deletable": true,
    "editable": true
   },
   "outputs": [],
   "source": [
    "# TODO: Use a five-layer Net to overfit 50 training examples.\n",
    "\n",
    "num_train = 50\n",
    "small_data = {\n",
    "  'X_train': data['X_train'][:num_train],\n",
    "  'y_train': data['y_train'][:num_train],\n",
    "  'X_val': data['X_val'],\n",
    "  'y_val': data['y_val'],\n",
    "}\n",
    "\n",
    "learning_rate = 1e-3\n",
    "weight_scale = 1e-5\n",
    "model = FullyConnectedNet([100, 100, 100, 100],\n",
    "                weight_scale=weight_scale, dtype=np.float64)\n",
    "solver = Solver(model, small_data,\n",
    "                print_every=10, num_epochs=20, batch_size=25,\n",
    "                update_rule='sgd',\n",
    "                optim_config={\n",
    "                  'learning_rate': learning_rate,\n",
    "                }\n",
    "         )\n",
    "solver.train()\n",
    "\n",
    "plt.plot(solver.loss_history, 'o')\n",
    "plt.title('Training loss history')\n",
    "plt.xlabel('Iteration')\n",
    "plt.ylabel('Training loss')\n",
    "plt.show()"
   ]
  },
  {
   "cell_type": "markdown",
   "metadata": {
    "deletable": true,
    "editable": true
   },
   "source": [
    "# Inline question: \n",
    "Did you notice anything about the comparative difficulty of training the three-layer net vs training the five layer net?\n",
    "\n",
    "# Answer:\n",
    "[FILL THIS IN]\n"
   ]
  },
  {
   "cell_type": "markdown",
   "metadata": {
    "deletable": true,
    "editable": true
   },
   "source": [
    "# Update rules\n",
    "So far we have used vanilla stochastic gradient descent (SGD) as our update rule. More sophisticated update rules can make it easier to train deep networks. We will implement a few of the most commonly used update rules and compare them to vanilla SGD."
   ]
  },
  {
   "cell_type": "markdown",
   "metadata": {
    "deletable": true,
    "editable": true
   },
   "source": [
    "# SGD+Momentum\n",
    "Stochastic gradient descent with momentum is a widely used update rule that tends to make deep networks converge faster than vanilla stochstic gradient descent.\n",
    "\n",
    "Open the file `cs231n/optim.py` and read the documentation at the top of the file to make sure you understand the API. Implement the SGD+momentum update rule in the function `sgd_momentum` and run the following to check your implementation. You should see errors less than 1e-8."
   ]
  },
  {
   "cell_type": "code",
   "execution_count": null,
   "metadata": {
    "collapsed": false,
    "deletable": true,
    "editable": true
   },
   "outputs": [],
   "source": [
    "from cs231n.optim import sgd_momentum\n",
    "\n",
    "N, D = 4, 5\n",
    "w = np.linspace(-0.4, 0.6, num=N*D).reshape(N, D)\n",
    "dw = np.linspace(-0.6, 0.4, num=N*D).reshape(N, D)\n",
    "v = np.linspace(0.6, 0.9, num=N*D).reshape(N, D)\n",
    "\n",
    "config = {'learning_rate': 1e-3, 'velocity': v}\n",
    "next_w, _ = sgd_momentum(w, dw, config=config)\n",
    "\n",
    "expected_next_w = np.asarray([\n",
    "  [ 0.1406,      0.20738947,  0.27417895,  0.34096842,  0.40775789],\n",
    "  [ 0.47454737,  0.54133684,  0.60812632,  0.67491579,  0.74170526],\n",
    "  [ 0.80849474,  0.87528421,  0.94207368,  1.00886316,  1.07565263],\n",
    "  [ 1.14244211,  1.20923158,  1.27602105,  1.34281053,  1.4096    ]])\n",
    "expected_velocity = np.asarray([\n",
    "  [ 0.5406,      0.55475789,  0.56891579, 0.58307368,  0.59723158],\n",
    "  [ 0.61138947,  0.62554737,  0.63970526,  0.65386316,  0.66802105],\n",
    "  [ 0.68217895,  0.69633684,  0.71049474,  0.72465263,  0.73881053],\n",
    "  [ 0.75296842,  0.76712632,  0.78128421,  0.79544211,  0.8096    ]])\n",
    "\n",
    "print('next_w error: ', rel_error(next_w, expected_next_w))\n",
    "print('velocity error: ', rel_error(expected_velocity, config['velocity']))"
   ]
  },
  {
   "cell_type": "markdown",
   "metadata": {
    "deletable": true,
    "editable": true
   },
   "source": [
    "Once you have done so, run the following to train a six-layer network with both SGD and SGD+momentum. You should see the SGD+momentum update rule converge faster."
   ]
  },
  {
   "cell_type": "code",
   "execution_count": null,
   "metadata": {
    "collapsed": false,
    "deletable": true,
    "editable": true,
    "scrolled": false
   },
   "outputs": [],
   "source": [
    "num_train = 4000\n",
    "small_data = {\n",
    "  'X_train': data['X_train'][:num_train],\n",
    "  'y_train': data['y_train'][:num_train],\n",
    "  'X_val': data['X_val'],\n",
    "  'y_val': data['y_val'],\n",
    "}\n",
    "\n",
    "solvers = {}\n",
    "\n",
    "for update_rule in ['sgd', 'sgd_momentum']:\n",
    "  print('running with ', update_rule)\n",
    "  model = FullyConnectedNet([100, 100, 100, 100, 100], weight_scale=5e-2)\n",
    "\n",
    "  solver = Solver(model, small_data,\n",
    "                  num_epochs=5, batch_size=100,\n",
    "                  update_rule=update_rule,\n",
    "                  optim_config={\n",
    "                    'learning_rate': 1e-2,\n",
    "                  },\n",
    "                  verbose=True)\n",
    "  solvers[update_rule] = solver\n",
    "  solver.train()\n",
    "  print()\n",
    "\n",
    "plt.subplot(3, 1, 1)\n",
    "plt.title('Training loss')\n",
    "plt.xlabel('Iteration')\n",
    "\n",
    "plt.subplot(3, 1, 2)\n",
    "plt.title('Training accuracy')\n",
    "plt.xlabel('Epoch')\n",
    "\n",
    "plt.subplot(3, 1, 3)\n",
    "plt.title('Validation accuracy')\n",
    "plt.xlabel('Epoch')\n",
    "\n",
    "for update_rule, solver in list(solvers.items()):\n",
    "  plt.subplot(3, 1, 1)\n",
    "  plt.plot(solver.loss_history, 'o', label=update_rule)\n",
    "  \n",
    "  plt.subplot(3, 1, 2)\n",
    "  plt.plot(solver.train_acc_history, '-o', label=update_rule)\n",
    "\n",
    "  plt.subplot(3, 1, 3)\n",
    "  plt.plot(solver.val_acc_history, '-o', label=update_rule)\n",
    "  \n",
    "for i in [1, 2, 3]:\n",
    "  plt.subplot(3, 1, i)\n",
    "  plt.legend(loc='upper center', ncol=4)\n",
    "plt.gcf().set_size_inches(15, 15)\n",
    "plt.show()"
   ]
  },
  {
   "cell_type": "markdown",
   "metadata": {
    "deletable": true,
    "editable": true
   },
   "source": [
    "# RMSProp and Adam\n",
    "RMSProp [1] and Adam [2] are update rules that set per-parameter learning rates by using a running average of the second moments of gradients.\n",
    "\n",
    "In the file `cs231n/optim.py`, implement the RMSProp update rule in the `rmsprop` function and implement the Adam update rule in the `adam` function, and check your implementations using the tests below.\n",
    "\n",
    "[1] Tijmen Tieleman and Geoffrey Hinton. \"Lecture 6.5-rmsprop: Divide the gradient by a running average of its recent magnitude.\" COURSERA: Neural Networks for Machine Learning 4 (2012).\n",
    "\n",
    "[2] Diederik Kingma and Jimmy Ba, \"Adam: A Method for Stochastic Optimization\", ICLR 2015."
   ]
  },
  {
   "cell_type": "code",
   "execution_count": null,
   "metadata": {
    "collapsed": false,
    "deletable": true,
    "editable": true
   },
   "outputs": [],
   "source": [
    "# Test RMSProp implementation; you should see errors less than 1e-7\n",
    "from cs231n.optim import rmsprop\n",
    "\n",
    "N, D = 4, 5\n",
    "w = np.linspace(-0.4, 0.6, num=N*D).reshape(N, D)\n",
    "dw = np.linspace(-0.6, 0.4, num=N*D).reshape(N, D)\n",
    "cache = np.linspace(0.6, 0.9, num=N*D).reshape(N, D)\n",
    "\n",
    "config = {'learning_rate': 1e-2, 'cache': cache}\n",
    "next_w, _ = rmsprop(w, dw, config=config)\n",
    "\n",
    "expected_next_w = np.asarray([\n",
    "  [-0.39223849, -0.34037513, -0.28849239, -0.23659121, -0.18467247],\n",
    "  [-0.132737,   -0.08078555, -0.02881884,  0.02316247,  0.07515774],\n",
    "  [ 0.12716641,  0.17918792,  0.23122175,  0.28326742,  0.33532447],\n",
    "  [ 0.38739248,  0.43947102,  0.49155973,  0.54365823,  0.59576619]])\n",
    "expected_cache = np.asarray([\n",
    "  [ 0.5976,      0.6126277,   0.6277108,   0.64284931,  0.65804321],\n",
    "  [ 0.67329252,  0.68859723,  0.70395734,  0.71937285,  0.73484377],\n",
    "  [ 0.75037008,  0.7659518,   0.78158892,  0.79728144,  0.81302936],\n",
    "  [ 0.82883269,  0.84469141,  0.86060554,  0.87657507,  0.8926    ]])\n",
    "\n",
    "print('next_w error: ', rel_error(expected_next_w, next_w))\n",
    "print('cache error: ', rel_error(expected_cache, config['cache']))"
   ]
  },
  {
   "cell_type": "code",
   "execution_count": null,
   "metadata": {
    "collapsed": false,
    "deletable": true,
    "editable": true
   },
   "outputs": [],
   "source": [
    "# Test Adam implementation; you should see errors around 1e-7 or less\n",
    "from cs231n.optim import adam\n",
    "\n",
    "N, D = 4, 5\n",
    "w = np.linspace(-0.4, 0.6, num=N*D).reshape(N, D)\n",
    "dw = np.linspace(-0.6, 0.4, num=N*D).reshape(N, D)\n",
    "m = np.linspace(0.6, 0.9, num=N*D).reshape(N, D)\n",
    "v = np.linspace(0.7, 0.5, num=N*D).reshape(N, D)\n",
    "\n",
    "config = {'learning_rate': 1e-2, 'm': m, 'v': v, 't': 5}\n",
    "next_w, _ = adam(w, dw, config=config)\n",
    "\n",
    "expected_next_w = np.asarray([\n",
    "  [-0.40094747, -0.34836187, -0.29577703, -0.24319299, -0.19060977],\n",
    "  [-0.1380274,  -0.08544591, -0.03286534,  0.01971428,  0.0722929],\n",
    "  [ 0.1248705,   0.17744702,  0.23002243,  0.28259667,  0.33516969],\n",
    "  [ 0.38774145,  0.44031188,  0.49288093,  0.54544852,  0.59801459]])\n",
    "expected_v = np.asarray([\n",
    "  [ 0.69966,     0.68908382,  0.67851319,  0.66794809,  0.65738853,],\n",
    "  [ 0.64683452,  0.63628604,  0.6257431,   0.61520571,  0.60467385,],\n",
    "  [ 0.59414753,  0.58362676,  0.57311152,  0.56260183,  0.55209767,],\n",
    "  [ 0.54159906,  0.53110598,  0.52061845,  0.51013645,  0.49966,   ]])\n",
    "expected_m = np.asarray([\n",
    "  [ 0.48,        0.49947368,  0.51894737,  0.53842105,  0.55789474],\n",
    "  [ 0.57736842,  0.59684211,  0.61631579,  0.63578947,  0.65526316],\n",
    "  [ 0.67473684,  0.69421053,  0.71368421,  0.73315789,  0.75263158],\n",
    "  [ 0.77210526,  0.79157895,  0.81105263,  0.83052632,  0.85      ]])\n",
    "\n",
    "print('next_w error: ', rel_error(expected_next_w, next_w))\n",
    "print('v error: ', rel_error(expected_v, config['v']))\n",
    "print('m error: ', rel_error(expected_m, config['m']))"
   ]
  },
  {
   "cell_type": "markdown",
   "metadata": {
    "deletable": true,
    "editable": true
   },
   "source": [
    "Once you have debugged your RMSProp and Adam implementations, run the following to train a pair of deep networks using these new update rules:"
   ]
  },
  {
   "cell_type": "code",
   "execution_count": null,
   "metadata": {
    "collapsed": false,
    "deletable": true,
    "editable": true
   },
   "outputs": [],
   "source": [
    "learning_rates = {'rmsprop': 1e-4, 'adam': 1e-3}\n",
    "for update_rule in ['adam', 'rmsprop']:\n",
    "  print('running with ', update_rule)\n",
    "  model = FullyConnectedNet([100, 100, 100, 100, 100], weight_scale=5e-2)\n",
    "\n",
    "  solver = Solver(model, small_data,\n",
    "                  num_epochs=5, batch_size=100,\n",
    "                  update_rule=update_rule,\n",
    "                  optim_config={\n",
    "                    'learning_rate': learning_rates[update_rule]\n",
    "                  },\n",
    "                  verbose=True)\n",
    "  solvers[update_rule] = solver\n",
    "  solver.train()\n",
    "  print()\n",
    "\n",
    "plt.subplot(3, 1, 1)\n",
    "plt.title('Training loss')\n",
    "plt.xlabel('Iteration')\n",
    "\n",
    "plt.subplot(3, 1, 2)\n",
    "plt.title('Training accuracy')\n",
    "plt.xlabel('Epoch')\n",
    "\n",
    "plt.subplot(3, 1, 3)\n",
    "plt.title('Validation accuracy')\n",
    "plt.xlabel('Epoch')\n",
    "\n",
    "for update_rule, solver in list(solvers.items()):\n",
    "  plt.subplot(3, 1, 1)\n",
    "  plt.plot(solver.loss_history, 'o', label=update_rule)\n",
    "  \n",
    "  plt.subplot(3, 1, 2)\n",
    "  plt.plot(solver.train_acc_history, '-o', label=update_rule)\n",
    "\n",
    "  plt.subplot(3, 1, 3)\n",
    "  plt.plot(solver.val_acc_history, '-o', label=update_rule)\n",
    "  \n",
    "for i in [1, 2, 3]:\n",
    "  plt.subplot(3, 1, i)\n",
    "  plt.legend(loc='upper center', ncol=4)\n",
    "plt.gcf().set_size_inches(15, 15)\n",
    "plt.show()"
   ]
  },
  {
   "cell_type": "markdown",
   "metadata": {
    "deletable": true,
    "editable": true
   },
   "source": [
    "# Train a good model!\n",
    "Train the best fully-connected model that you can on CIFAR-10, storing your best model in the `best_model` variable. We require you to get at least 50% accuracy on the validation set using a fully-connected net.\n",
    "\n",
    "If you are careful it should be possible to get accuracies above 55%, but we don't require it for this part and won't assign extra credit for doing so. Later in the assignment we will ask you to train the best convolutional network that you can on CIFAR-10, and we would prefer that you spend your effort working on convolutional nets rather than fully-connected nets.\n",
    "\n",
    "You might find it useful to complete the `BatchNormalization.ipynb` and `Dropout.ipynb` notebooks before completing this part, since those techniques can help you train powerful models."
   ]
  },
  {
   "cell_type": "code",
   "execution_count": null,
   "metadata": {
    "collapsed": false,
    "deletable": true,
    "editable": true,
    "scrolled": false
   },
   "outputs": [],
   "source": [
    "best_model = None\n",
    "################################################################################\n",
    "# TODO: Train the best FullyConnectedNet that you can on CIFAR-10. You might   #\n",
    "# batch normalization and dropout useful. Store your best model in the         #\n",
    "# best_model variable.                                                         #\n",
    "################################################################################\n",
    "pass\n",
    "################################################################################\n",
    "#                              END OF YOUR CODE                                #\n",
    "################################################################################"
   ]
  },
  {
   "cell_type": "markdown",
   "metadata": {
    "deletable": true,
    "editable": true
   },
   "source": [
    "# Test you model\n",
    "Run your best model on the validation and test sets. You should achieve above 50% accuracy on the validation set."
   ]
  },
  {
   "cell_type": "code",
   "execution_count": null,
   "metadata": {
    "collapsed": false,
    "deletable": true,
    "editable": true
   },
   "outputs": [],
   "source": [
    "y_test_pred = np.argmax(best_model.loss(data['X_test']), axis=1)\n",
    "y_val_pred = np.argmax(best_model.loss(data['X_val']), axis=1)\n",
    "print('Validation set accuracy: ', (y_val_pred == data['y_val']).mean())\n",
    "print('Test set accuracy: ', (y_test_pred == data['y_test']).mean())"
   ]
  }
 ],
 "metadata": {
  "kernelspec": {
   "display_name": "Python 2",
   "language": "python",
   "name": "python2"
  },
  "language_info": {
   "codemirror_mode": {
    "name": "ipython",
    "version": 2
   },
   "file_extension": ".py",
   "mimetype": "text/x-python",
   "name": "python",
   "nbconvert_exporter": "python",
   "pygments_lexer": "ipython2",
   "version": "2.7.13"
  }
 },
 "nbformat": 4,
 "nbformat_minor": 0
}
